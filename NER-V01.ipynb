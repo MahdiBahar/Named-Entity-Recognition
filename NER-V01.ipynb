{
 "cells": [
  {
   "cell_type": "code",
   "execution_count": 1,
   "id": "840b2074",
   "metadata": {},
   "outputs": [
    {
     "name": "stderr",
     "output_type": "stream",
     "text": [
      "/home/mahdi/Named-Entity-Recognition/.venv/lib/python3.12/site-packages/tqdm/auto.py:21: TqdmWarning: IProgress not found. Please update jupyter and ipywidgets. See https://ipywidgets.readthedocs.io/en/stable/user_install.html\n",
      "  from .autonotebook import tqdm as notebook_tqdm\n",
      "Some weights of the model checkpoint at HooshvareLab/bert-base-parsbert-ner-uncased were not used when initializing BertForTokenClassification: ['bert.pooler.dense.bias', 'bert.pooler.dense.weight']\n",
      "- This IS expected if you are initializing BertForTokenClassification from the checkpoint of a model trained on another task or with another architecture (e.g. initializing a BertForSequenceClassification model from a BertForPreTraining model).\n",
      "- This IS NOT expected if you are initializing BertForTokenClassification from the checkpoint of a model that you expect to be exactly identical (initializing a BertForSequenceClassification model from a BertForSequenceClassification model).\n",
      "Device set to use cuda:0\n",
      "Asking to truncate to max_length but no maximum length is provided and the model has no predefined maximum length. Default to no truncation.\n"
     ]
    },
    {
     "name": "stdout",
     "output_type": "stream",
     "text": [
      "Raw ParsBERT‐NER output:\n",
      "  span='بانک ملت'   label=organization   score=0.975\n"
     ]
    }
   ],
   "source": [
    "from transformers import AutoTokenizer, AutoModelForTokenClassification, pipeline\n",
    "\n",
    "MODEL_NAME = \"HooshvareLab/bert-base-parsbert-ner-uncased\"\n",
    "tokenizer = AutoTokenizer.from_pretrained(MODEL_NAME)\n",
    "model     = AutoModelForTokenClassification.from_pretrained(MODEL_NAME)\n",
    "\n",
    "ner_pipe = pipeline(\n",
    "    \"ner\",\n",
    "    model=model,\n",
    "    tokenizer=tokenizer,\n",
    "    aggregation_strategy=\"simple\"\n",
    ")\n",
    "\n",
    "sentence = \"این یک جمله تستی است که در آن باید بانک ملت و کد ملی تشخیص داده شود\"\n",
    "preds = ner_pipe(sentence)\n",
    "\n",
    "print(\"Raw ParsBERT‐NER output:\")\n",
    "for p in preds:\n",
    "    print(f\"  span='{p['word']}'   label={p['entity_group']}   score={p['score']:.3f}\")\n"
   ]
  },
  {
   "cell_type": "markdown",
   "id": "51b9c9a7",
   "metadata": {},
   "source": [
    "## Read .CoNLL file"
   ]
  },
  {
   "cell_type": "code",
   "execution_count": 6,
   "id": "5665c842",
   "metadata": {},
   "outputs": [
    {
     "name": "stdout",
     "output_type": "stream",
     "text": [
      "[('جهت', 'O'), ('استعلام', 'B-ACTION'), ('کدملی', 'B-IDENTIFICATION_ID'), ('مربوط', 'O'), ('به', 'O'), ('مانده', 'O'), ('ایجادی', 'O'), ('می', 'O'), ('بایست', 'O'), ('از', 'O'), ('طریق', 'O'), ('سامانه', 'B-FINANCIAL_PRODUCT'), ('بک', 'B-FINANCIAL_PRODUCT'), ('آفیس»', 'B-FINANCIAL_PRODUCT'), ('پشتیبانی', 'O'), ('فنی»', 'O'), ('بازیابی', 'B-ACTION'), ('اطلاعات', 'B-ACTION'), ('شناسه', 'O'), ('مشتری', 'O'), ('تسک', 'O'), ('انتقالی', 'O'), ('اقدام', 'O'), ('گردد', 'O'), ('.', 'O')]\n"
     ]
    }
   ],
   "source": [
    "def read_conll_file(file_path):\n",
    "    sentences = []\n",
    "    current_sentence = []\n",
    "\n",
    "    with open(file_path, \"r\", encoding=\"utf-8\") as f:\n",
    "        for line in f:\n",
    "            if line.strip() == \"\":\n",
    "                if current_sentence:\n",
    "                    sentences.append(current_sentence)\n",
    "                    current_sentence = []\n",
    "            else:\n",
    "                parts = line.strip().split()\n",
    "                if len(parts) == 4:\n",
    "                    token, pos, chunk, ner = parts\n",
    "                elif len(parts) == 3:\n",
    "                    token, pos, ner = parts\n",
    "                    chunk = \"_\"  # placeholder if missing\n",
    "                else:\n",
    "                    raise ValueError(f\"Invalid line: {line}\")\n",
    "                current_sentence.append((token, ner))\n",
    "\n",
    "    return sentences\n",
    "\n",
    "# Example usage:\n",
    "data = read_conll_file(\"Labeled_NER.conll\")\n",
    "print(data[1])  # Print first sentence"
   ]
  },
  {
   "cell_type": "code",
   "execution_count": 7,
   "id": "ef6b91b9",
   "metadata": {},
   "outputs": [
    {
     "data": {
      "text/plain": [
       "2"
      ]
     },
     "execution_count": 7,
     "metadata": {},
     "output_type": "execute_result"
    }
   ],
   "source": [
    "len(data)  # Print number of sentences"
   ]
  },
  {
   "cell_type": "code",
   "execution_count": null,
   "id": "997a6c56",
   "metadata": {},
   "outputs": [],
   "source": []
  }
 ],
 "metadata": {
  "kernelspec": {
   "display_name": ".venv",
   "language": "python",
   "name": "python3"
  },
  "language_info": {
   "codemirror_mode": {
    "name": "ipython",
    "version": 3
   },
   "file_extension": ".py",
   "mimetype": "text/x-python",
   "name": "python",
   "nbconvert_exporter": "python",
   "pygments_lexer": "ipython3",
   "version": "3.12.4"
  }
 },
 "nbformat": 4,
 "nbformat_minor": 5
}
