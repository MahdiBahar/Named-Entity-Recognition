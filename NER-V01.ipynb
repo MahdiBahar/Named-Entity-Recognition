{
 "cells": [
  {
   "cell_type": "code",
   "execution_count": 1,
   "id": "840b2074",
   "metadata": {},
   "outputs": [
    {
     "name": "stderr",
     "output_type": "stream",
     "text": [
      "/home/mahdi/Named-Entity-Recognition/.venv/lib/python3.12/site-packages/tqdm/auto.py:21: TqdmWarning: IProgress not found. Please update jupyter and ipywidgets. See https://ipywidgets.readthedocs.io/en/stable/user_install.html\n",
      "  from .autonotebook import tqdm as notebook_tqdm\n",
      "Some weights of the model checkpoint at HooshvareLab/bert-base-parsbert-ner-uncased were not used when initializing BertForTokenClassification: ['bert.pooler.dense.bias', 'bert.pooler.dense.weight']\n",
      "- This IS expected if you are initializing BertForTokenClassification from the checkpoint of a model trained on another task or with another architecture (e.g. initializing a BertForSequenceClassification model from a BertForPreTraining model).\n",
      "- This IS NOT expected if you are initializing BertForTokenClassification from the checkpoint of a model that you expect to be exactly identical (initializing a BertForSequenceClassification model from a BertForSequenceClassification model).\n",
      "Device set to use cuda:0\n",
      "Asking to truncate to max_length but no maximum length is provided and the model has no predefined maximum length. Default to no truncation.\n"
     ]
    },
    {
     "name": "stdout",
     "output_type": "stream",
     "text": [
      "Raw ParsBERT‐NER output:\n",
      "  span='بانک ملت'   label=organization   score=0.975\n"
     ]
    }
   ],
   "source": [
    "from transformers import AutoTokenizer, AutoModelForTokenClassification, pipeline\n",
    "\n",
    "MODEL_NAME = \"HooshvareLab/bert-base-parsbert-ner-uncased\"\n",
    "tokenizer = AutoTokenizer.from_pretrained(MODEL_NAME)\n",
    "model     = AutoModelForTokenClassification.from_pretrained(MODEL_NAME)\n",
    "\n",
    "ner_pipe = pipeline(\n",
    "    \"ner\",\n",
    "    model=model,\n",
    "    tokenizer=tokenizer,\n",
    "    aggregation_strategy=\"simple\"\n",
    ")\n",
    "\n",
    "sentence = \"این یک جمله تستی است که در آن باید بانک ملت و کد ملی تشخیص داده شود\"\n",
    "preds = ner_pipe(sentence)\n",
    "\n",
    "print(\"Raw ParsBERT‐NER output:\")\n",
    "for p in preds:\n",
    "    print(f\"  span='{p['word']}'   label={p['entity_group']}   score={p['score']:.3f}\")\n"
   ]
  },
  {
   "cell_type": "markdown",
   "id": "51b9c9a7",
   "metadata": {},
   "source": [
    "## Read .CoNLL file"
   ]
  },
  {
   "cell_type": "code",
   "execution_count": 1,
   "id": "5665c842",
   "metadata": {},
   "outputs": [
    {
     "name": "stdout",
     "output_type": "stream",
     "text": [
      "[('جهت', 'O'), ('استعلام', 'B-ACTION'), ('کدملی', 'B-IDENTIFICATION_ID'), ('مربوط', 'O'), ('به', 'O'), ('مانده', 'O'), ('ایجادی', 'O'), ('می', 'O'), ('بایست', 'O'), ('از', 'O'), ('طریق', 'O'), ('سامانه', 'B-FINANCIAL_PRODUCT'), ('بک', 'B-FINANCIAL_PRODUCT'), ('آفیس»', 'B-FINANCIAL_PRODUCT'), ('پشتیبانی', 'O'), ('فنی»', 'O'), ('بازیابی', 'B-ACTION'), ('اطلاعات', 'B-ACTION'), ('شناسه', 'O'), ('مشتری', 'O'), ('تسک', 'O'), ('انتقالی', 'O'), ('اقدام', 'O'), ('گردد', 'O'), ('.', 'O')]\n"
     ]
    }
   ],
   "source": [
    "def read_conll_file(file_path):\n",
    "    sentences = []\n",
    "    current_sentence = []\n",
    "\n",
    "    with open(file_path, \"r\", encoding=\"utf-8\") as f:\n",
    "        for line in f:\n",
    "            if line.strip() == \"\":\n",
    "                if current_sentence:\n",
    "                    sentences.append(current_sentence)\n",
    "                    current_sentence = []\n",
    "            else:\n",
    "                parts = line.strip().split()\n",
    "                if len(parts) == 4:\n",
    "                    token, pos, chunk, ner = parts\n",
    "                elif len(parts) == 3:\n",
    "                    token, pos, ner = parts\n",
    "                    chunk = \"_\"  # placeholder if missing\n",
    "                else:\n",
    "                    raise ValueError(f\"Invalid line: {line}\")\n",
    "                current_sentence.append((token, ner))\n",
    "\n",
    "    return sentences\n",
    "\n",
    "# Example usage:\n",
    "data = read_conll_file(\"Labeled_NER.conll\")\n",
    "print(data[1])  # Print first sentence"
   ]
  },
  {
   "cell_type": "code",
   "execution_count": 2,
   "id": "ef6b91b9",
   "metadata": {},
   "outputs": [
    {
     "data": {
      "text/plain": [
       "2"
      ]
     },
     "execution_count": 2,
     "metadata": {},
     "output_type": "execute_result"
    }
   ],
   "source": [
    "len(data)  # Print number of sentences"
   ]
  },
  {
   "cell_type": "code",
   "execution_count": 3,
   "id": "997a6c56",
   "metadata": {},
   "outputs": [],
   "source": [
    "label_list = ['O', 'B-ACTION', 'I-ACTION', 'B-IDENTIFICATION_ID', 'I-IDENTIFICATION_ID',\n",
    "              'B-FINANCIAL_PRODUCT', 'I-FINANCIAL_PRODUCT']\n",
    "label2id = {label: idx for idx, label in enumerate(label_list)}\n",
    "id2label = {idx: label for label, idx in label2id.items()}\n"
   ]
  },
  {
   "cell_type": "code",
   "execution_count": 4,
   "id": "6473b3bc",
   "metadata": {},
   "outputs": [],
   "source": [
    "# Convert raw sentences into structured format\n",
    "def convert_to_hf_format(raw_sentences, label2id):\n",
    "    dataset = []\n",
    "    for sentence in raw_sentences:\n",
    "        tokens = [word for word, tag in sentence]\n",
    "        ner_tags = [label2id.get(tag, 0) for _, tag in sentence]  # default to 'O' if unknown\n",
    "        dataset.append({\n",
    "            \"tokens\": tokens,\n",
    "            \"ner_tags\": ner_tags\n",
    "        })\n",
    "    return dataset\n",
    "\n",
    "converted_dataset = convert_to_hf_format(data, label2id)\n"
   ]
  },
  {
   "cell_type": "code",
   "execution_count": 5,
   "id": "05c7e4ab",
   "metadata": {},
   "outputs": [
    {
     "data": {
      "text/plain": [
       "[{'tokens': ['-DOCSTART-',\n",
       "   'در',\n",
       "   'پردازش',\n",
       "   '717',\n",
       "   '(',\n",
       "   'تبادل',\n",
       "   'مانده',\n",
       "   'انتقالی',\n",
       "   'کاربر',\n",
       "   ')',\n",
       "   'پیغام',\n",
       "   'خطای',\n",
       "   '\"',\n",
       "   '\"',\n",
       "   'کد',\n",
       "   'ملی',\n",
       "   'وارد',\n",
       "   'شده',\n",
       "   'مرتبط',\n",
       "   'با',\n",
       "   'این',\n",
       "   'عملیات',\n",
       "   'نمی',\n",
       "   'باشد.',\n",
       "   '\"',\n",
       "   '\"',\n",
       "   'دریافت',\n",
       "   'می',\n",
       "   'گردد.',\n",
       "   'در',\n",
       "   'تمامی',\n",
       "   'فعالیتهایی',\n",
       "   'که',\n",
       "   'منجر',\n",
       "   'به',\n",
       "   'ایجاد',\n",
       "   'مانده',\n",
       "   'انتقالی',\n",
       "   'می',\n",
       "   'شوند،',\n",
       "   'شناسه',\n",
       "   'مشتری',\n",
       "   '(',\n",
       "   'کدملی',\n",
       "   '/',\n",
       "   'شناسه',\n",
       "   'ملی',\n",
       "   ')',\n",
       "   'در',\n",
       "   'فرم',\n",
       "   'پولشویی',\n",
       "   'از',\n",
       "   'اطلاعات',\n",
       "   'قبلی',\n",
       "   'بازیابی',\n",
       "   'نشده',\n",
       "   'و',\n",
       "   'کاربر',\n",
       "   'ملزم',\n",
       "   'به',\n",
       "   'درج',\n",
       "   'شناسه',\n",
       "   'مشتری',\n",
       "   '(',\n",
       "   'کدملی',\n",
       "   '/',\n",
       "   'شناسه',\n",
       "   'ملی',\n",
       "   ')',\n",
       "   'در',\n",
       "   'فرم',\n",
       "   'پولشویی',\n",
       "   'برای',\n",
       "   'فعالیت',\n",
       "   'بعدی',\n",
       "   'می',\n",
       "   'باشد.',\n",
       "   'پس',\n",
       "   'از',\n",
       "   'درج',\n",
       "   'شناسه',\n",
       "   'مشتری',\n",
       "   'توسط',\n",
       "   'کاربر،',\n",
       "   'سامانه',\n",
       "   'بانکداری',\n",
       "   'متمرکز',\n",
       "   'کنترل',\n",
       "   'می',\n",
       "   'نماید',\n",
       "   'که',\n",
       "   'شناسه',\n",
       "   'مذکور',\n",
       "   'با',\n",
       "   'شناسه',\n",
       "   'مانده',\n",
       "   'انتقالی',\n",
       "   'باز',\n",
       "   'کاربر',\n",
       "   'همخوانی',\n",
       "   'داشته',\n",
       "   'باشد.',\n",
       "   'به',\n",
       "   'عبارتی',\n",
       "   'مانده',\n",
       "   'انتقالی',\n",
       "   'ایجاد',\n",
       "   'شده',\n",
       "   'صرفا',\n",
       "   'برای',\n",
       "   'یک',\n",
       "   'شخص',\n",
       "   'با',\n",
       "   'یک',\n",
       "   'شماره',\n",
       "   'تبادل',\n",
       "   'منحصر',\n",
       "   'بفرد',\n",
       "   'قابل',\n",
       "   'پردازش',\n",
       "   'می',\n",
       "   'باشد',\n",
       "   '.'],\n",
       "  'ner_tags': [0,\n",
       "   0,\n",
       "   1,\n",
       "   0,\n",
       "   0,\n",
       "   0,\n",
       "   0,\n",
       "   0,\n",
       "   0,\n",
       "   0,\n",
       "   0,\n",
       "   0,\n",
       "   0,\n",
       "   0,\n",
       "   0,\n",
       "   0,\n",
       "   0,\n",
       "   0,\n",
       "   0,\n",
       "   0,\n",
       "   0,\n",
       "   0,\n",
       "   0,\n",
       "   0,\n",
       "   0,\n",
       "   0,\n",
       "   0,\n",
       "   0,\n",
       "   0,\n",
       "   0,\n",
       "   0,\n",
       "   0,\n",
       "   0,\n",
       "   0,\n",
       "   0,\n",
       "   0,\n",
       "   1,\n",
       "   1,\n",
       "   0,\n",
       "   0,\n",
       "   0,\n",
       "   0,\n",
       "   0,\n",
       "   3,\n",
       "   0,\n",
       "   3,\n",
       "   3,\n",
       "   0,\n",
       "   0,\n",
       "   0,\n",
       "   0,\n",
       "   0,\n",
       "   0,\n",
       "   0,\n",
       "   0,\n",
       "   0,\n",
       "   0,\n",
       "   0,\n",
       "   0,\n",
       "   0,\n",
       "   0,\n",
       "   0,\n",
       "   0,\n",
       "   0,\n",
       "   3,\n",
       "   0,\n",
       "   3,\n",
       "   3,\n",
       "   0,\n",
       "   0,\n",
       "   0,\n",
       "   0,\n",
       "   0,\n",
       "   0,\n",
       "   0,\n",
       "   0,\n",
       "   0,\n",
       "   0,\n",
       "   0,\n",
       "   0,\n",
       "   0,\n",
       "   0,\n",
       "   0,\n",
       "   0,\n",
       "   0,\n",
       "   0,\n",
       "   0,\n",
       "   0,\n",
       "   0,\n",
       "   0,\n",
       "   0,\n",
       "   0,\n",
       "   0,\n",
       "   0,\n",
       "   0,\n",
       "   0,\n",
       "   0,\n",
       "   0,\n",
       "   0,\n",
       "   0,\n",
       "   0,\n",
       "   0,\n",
       "   0,\n",
       "   0,\n",
       "   0,\n",
       "   0,\n",
       "   0,\n",
       "   0,\n",
       "   0,\n",
       "   0,\n",
       "   0,\n",
       "   0,\n",
       "   0,\n",
       "   0,\n",
       "   0,\n",
       "   0,\n",
       "   0,\n",
       "   0,\n",
       "   0,\n",
       "   0,\n",
       "   0,\n",
       "   0,\n",
       "   0]},\n",
       " {'tokens': ['جهت',\n",
       "   'استعلام',\n",
       "   'کدملی',\n",
       "   'مربوط',\n",
       "   'به',\n",
       "   'مانده',\n",
       "   'ایجادی',\n",
       "   'می',\n",
       "   'بایست',\n",
       "   'از',\n",
       "   'طریق',\n",
       "   'سامانه',\n",
       "   'بک',\n",
       "   'آفیس»',\n",
       "   'پشتیبانی',\n",
       "   'فنی»',\n",
       "   'بازیابی',\n",
       "   'اطلاعات',\n",
       "   'شناسه',\n",
       "   'مشتری',\n",
       "   'تسک',\n",
       "   'انتقالی',\n",
       "   'اقدام',\n",
       "   'گردد',\n",
       "   '.'],\n",
       "  'ner_tags': [0,\n",
       "   1,\n",
       "   3,\n",
       "   0,\n",
       "   0,\n",
       "   0,\n",
       "   0,\n",
       "   0,\n",
       "   0,\n",
       "   0,\n",
       "   0,\n",
       "   5,\n",
       "   5,\n",
       "   5,\n",
       "   0,\n",
       "   0,\n",
       "   1,\n",
       "   1,\n",
       "   0,\n",
       "   0,\n",
       "   0,\n",
       "   0,\n",
       "   0,\n",
       "   0,\n",
       "   0]}]"
      ]
     },
     "execution_count": 5,
     "metadata": {},
     "output_type": "execute_result"
    }
   ],
   "source": [
    "converted_dataset"
   ]
  },
  {
   "cell_type": "code",
   "execution_count": 6,
   "id": "2db6995c",
   "metadata": {},
   "outputs": [
    {
     "name": "stderr",
     "output_type": "stream",
     "text": [
      "/home/mahdi/Named-Entity-Recognition/.venv/lib/python3.12/site-packages/tqdm/auto.py:21: TqdmWarning: IProgress not found. Please update jupyter and ipywidgets. See https://ipywidgets.readthedocs.io/en/stable/user_install.html\n",
      "  from .autonotebook import tqdm as notebook_tqdm\n"
     ]
    }
   ],
   "source": [
    "from datasets import Dataset\n",
    "\n",
    "hf_dataset = Dataset.from_list(converted_dataset)\n"
   ]
  },
  {
   "cell_type": "code",
   "execution_count": 11,
   "id": "d3623904",
   "metadata": {},
   "outputs": [],
   "source": [
    "from transformers import AutoTokenizer\n",
    "\n",
    "model_name = \"HooshvareLab/bert-base-parsbert-ner-uncased\"\n",
    "tokenizer = AutoTokenizer.from_pretrained(model_name)\n",
    "\n",
    "# def tokenize_and_align_labels(examples):\n",
    "#     tokenized_inputs = tokenizer(examples[\"tokens\"], truncation=True, is_split_into_words=True)\n",
    "    \n",
    "#     labels = []\n",
    "#     for i, label in enumerate(examples[\"ner_tags\"]):\n",
    "#         word_ids = tokenized_inputs.word_ids(batch_index=i)\n",
    "#         previous_word_idx = None\n",
    "#         label_ids = []\n",
    "#         for word_idx in word_ids:\n",
    "#             if word_idx is None:\n",
    "#                 label_ids.append(-100)  # ignored in loss\n",
    "#             elif word_idx != previous_word_idx:\n",
    "#                 label_ids.append(label[word_idx])  # B or O\n",
    "#             else:\n",
    "#                 label_ids.append(label[word_idx] if label[word_idx] % 2 == 1 else label[word_idx] + 1)  # I if needed\n",
    "#             previous_word_idx = word_idx\n",
    "#         labels.append(label_ids)\n",
    "\n",
    "#     tokenized_inputs[\"labels\"] = labels\n",
    "#     return tokenized_inputs\n",
    "\n",
    "# tokenized_dataset = hf_dataset.map(tokenize_and_align_labels, batched=True)\n",
    "\n",
    "\n",
    "def tokenize_and_align_labels(examples):\n",
    "    tokenized_inputs = tokenizer(\n",
    "        examples[\"tokens\"],\n",
    "        truncation=True,\n",
    "        padding=False,\n",
    "        is_split_into_words=True,\n",
    "        return_offsets_mapping=True  # helps alignment\n",
    "    )\n",
    "    \n",
    "    labels = []\n",
    "    for i, label in enumerate(examples[\"ner_tags\"]):\n",
    "        word_ids = tokenized_inputs.word_ids(batch_index=i)\n",
    "        previous_word_idx = None\n",
    "        label_ids = []\n",
    "        for word_idx in word_ids:\n",
    "            if word_idx is None:\n",
    "                label_ids.append(-100)\n",
    "            elif word_idx != previous_word_idx:\n",
    "                label_ids.append(label[word_idx])\n",
    "            else:\n",
    "                # For subwords, use I- version if available\n",
    "                label_ids.append(label[word_idx] if label[word_idx] % 2 == 1 else label[word_idx] + 1)\n",
    "            previous_word_idx = word_idx\n",
    "        labels.append(label_ids)\n",
    "\n",
    "    tokenized_inputs[\"labels\"] = labels\n",
    "    return tokenized_inputs\n",
    "\n",
    "\n"
   ]
  },
  {
   "cell_type": "code",
   "execution_count": 12,
   "id": "c4b8b193",
   "metadata": {},
   "outputs": [
    {
     "name": "stderr",
     "output_type": "stream",
     "text": [
      "Map:   0%|          | 0/2 [00:00<?, ? examples/s]Asking to truncate to max_length but no maximum length is provided and the model has no predefined maximum length. Default to no truncation.\n",
      "Map: 100%|██████████| 2/2 [00:00<00:00, 497.78 examples/s]\n"
     ]
    }
   ],
   "source": [
    "tokenized_dataset = hf_dataset.map(tokenize_and_align_labels, batched=True)\n",
    "tokenized_dataset = tokenized_dataset.remove_columns([\"tokens\", \"ner_tags\"])"
   ]
  },
  {
   "cell_type": "code",
   "execution_count": 13,
   "id": "3ab9cdc5",
   "metadata": {},
   "outputs": [
    {
     "name": "stderr",
     "output_type": "stream",
     "text": [
      "Some weights of the model checkpoint at HooshvareLab/bert-base-parsbert-ner-uncased were not used when initializing BertForTokenClassification: ['bert.pooler.dense.bias', 'bert.pooler.dense.weight']\n",
      "- This IS expected if you are initializing BertForTokenClassification from the checkpoint of a model trained on another task or with another architecture (e.g. initializing a BertForSequenceClassification model from a BertForPreTraining model).\n",
      "- This IS NOT expected if you are initializing BertForTokenClassification from the checkpoint of a model that you expect to be exactly identical (initializing a BertForSequenceClassification model from a BertForSequenceClassification model).\n",
      "Some weights of BertForTokenClassification were not initialized from the model checkpoint at HooshvareLab/bert-base-parsbert-ner-uncased and are newly initialized because the shapes did not match:\n",
      "- classifier.weight: found shape torch.Size([21, 768]) in the checkpoint and torch.Size([7, 768]) in the model instantiated\n",
      "- classifier.bias: found shape torch.Size([21]) in the checkpoint and torch.Size([7]) in the model instantiated\n",
      "You should probably TRAIN this model on a down-stream task to be able to use it for predictions and inference.\n"
     ]
    }
   ],
   "source": [
    "from transformers import AutoModelForTokenClassification\n",
    "\n",
    "# model = AutoModelForTokenClassification.from_pretrained(\n",
    "#     model_name,\n",
    "#     num_labels=len(label_list),\n",
    "#     id2label=id2label,\n",
    "#     label2id=label2id\n",
    "# )\n",
    "model = AutoModelForTokenClassification.from_pretrained(\n",
    "    model_name,\n",
    "    num_labels=len(label_list),\n",
    "    id2label=id2label,\n",
    "    label2id=label2id,\n",
    "    ignore_mismatched_sizes=True  # ✅ this line solves missmatch problem\n",
    ")\n"
   ]
  },
  {
   "cell_type": "code",
   "execution_count": null,
   "id": "0a8c866c",
   "metadata": {},
   "outputs": [],
   "source": [
    "\n"
   ]
  },
  {
   "cell_type": "code",
   "execution_count": 15,
   "id": "795626aa",
   "metadata": {},
   "outputs": [
    {
     "data": {
      "text/html": [
       "\n",
       "    <div>\n",
       "      \n",
       "      <progress value='3' max='3' style='width:300px; height:20px; vertical-align: middle;'></progress>\n",
       "      [3/3 00:00, Epoch 3/3]\n",
       "    </div>\n",
       "    <table border=\"1\" class=\"dataframe\">\n",
       "  <thead>\n",
       " <tr style=\"text-align: left;\">\n",
       "      <th>Step</th>\n",
       "      <th>Training Loss</th>\n",
       "    </tr>\n",
       "  </thead>\n",
       "  <tbody>\n",
       "  </tbody>\n",
       "</table><p>"
      ],
      "text/plain": [
       "<IPython.core.display.HTML object>"
      ]
     },
     "metadata": {},
     "output_type": "display_data"
    },
    {
     "data": {
      "text/plain": [
       "TrainOutput(global_step=3, training_loss=1.3147274653116863, metrics={'train_runtime': 0.3192, 'train_samples_per_second': 18.797, 'train_steps_per_second': 9.399, 'total_flos': 413398321380.0, 'train_loss': 1.3147274653116863, 'epoch': 3.0})"
      ]
     },
     "execution_count": 15,
     "metadata": {},
     "output_type": "execute_result"
    }
   ],
   "source": [
    "from transformers.training_args import TrainingArguments\n",
    "from transformers.trainer import Trainer\n",
    "from transformers.data.data_collator import DataCollatorForTokenClassification\n",
    "data_collator = DataCollatorForTokenClassification(tokenizer=tokenizer)\n",
    "\n",
    "training_args = TrainingArguments(\n",
    "    output_dir=\"./ner_model\",\n",
    "    learning_rate=2e-5,\n",
    "    per_device_train_batch_size=8,\n",
    "    num_train_epochs=3,\n",
    "    weight_decay=0.01,\n",
    "    save_strategy=\"no\"\n",
    ")\n",
    "\n",
    "trainer = Trainer(\n",
    "    model=model,\n",
    "    args=training_args,\n",
    "    train_dataset=tokenized_dataset,\n",
    "    data_collator=data_collator  # ✅ required for NER!\n",
    ")\n",
    "\n",
    "trainer.train()\n"
   ]
  },
  {
   "cell_type": "code",
   "execution_count": 16,
   "id": "b68f6cbe",
   "metadata": {},
   "outputs": [
    {
     "name": "stdout",
     "output_type": "stream",
     "text": [
      "135 135\n"
     ]
    }
   ],
   "source": [
    "sample = tokenized_dataset[0]\n",
    "print(len(sample['input_ids']), len(sample['labels']))  # These should match!\n"
   ]
  },
  {
   "cell_type": "code",
   "execution_count": 17,
   "id": "909be7a0",
   "metadata": {},
   "outputs": [
    {
     "data": {
      "text/plain": [
       "('./ner_model/tokenizer_config.json',\n",
       " './ner_model/special_tokens_map.json',\n",
       " './ner_model/vocab.txt',\n",
       " './ner_model/added_tokens.json',\n",
       " './ner_model/tokenizer.json')"
      ]
     },
     "execution_count": 17,
     "metadata": {},
     "output_type": "execute_result"
    }
   ],
   "source": [
    "trainer.save_model(\"./ner_model\")\n",
    "tokenizer.save_pretrained(\"./ner_model\")"
   ]
  },
  {
   "cell_type": "markdown",
   "id": "a88d6382",
   "metadata": {},
   "source": [
    "## Test the Model"
   ]
  },
  {
   "cell_type": "code",
   "execution_count": 30,
   "id": "2b0ce371",
   "metadata": {},
   "outputs": [],
   "source": [
    "# from transformers import AutoModelForTokenClassification, AutoTokenizer\n",
    "# from transformers.pipelines import pipeline\n",
    "\n",
    "# model = AutoModelForTokenClassification.from_pretrained(\"./ner_model\")\n",
    "# tokenizer = AutoTokenizer.from_pretrained(\"./ner_model\")\n",
    "# ner_pipe = pipeline(\n",
    "#     \"ner\",\n",
    "#     model=model,\n",
    "#     tokenizer=tokenizer,\n",
    "#     aggregation_strategy=\"simple\"\n",
    "# )\n"
   ]
  },
  {
   "cell_type": "code",
   "execution_count": 31,
   "id": "a2391ab8",
   "metadata": {},
   "outputs": [],
   "source": [
    "# # Test it\n",
    "# text = \"اطلاعات مشتری باید از طریق سامانه بک آفیس بازیابی گردد.\"\n",
    "# try:\n",
    "#     result = ner_pipe(text)\n",
    "#     if result:\n",
    "#         for entity in result:\n",
    "#             if isinstance(entity, dict):\n",
    "#                 print(f\"{entity['word']} -> {entity['entity_group']} (score={entity['score']:.2f})\")\n",
    "#             else:\n",
    "#                 print(f\"Unexpected entity format: {entity}\")\n",
    "#     else:\n",
    "#         print(\"No entities were found in the text.\")\n",
    "# except Exception as e:\n",
    "#     print(f\"Error processing text: {str(e)}\")"
   ]
  },
  {
   "cell_type": "code",
   "execution_count": 25,
   "id": "e763b76a",
   "metadata": {},
   "outputs": [
    {
     "data": {
      "text/plain": [
       "{0: 'O',\n",
       " 1: 'B-ACTION',\n",
       " 2: 'I-ACTION',\n",
       " 3: 'B-IDENTIFICATION_ID',\n",
       " 4: 'I-IDENTIFICATION_ID',\n",
       " 5: 'B-FINANCIAL_PRODUCT',\n",
       " 6: 'I-FINANCIAL_PRODUCT'}"
      ]
     },
     "execution_count": 25,
     "metadata": {},
     "output_type": "execute_result"
    }
   ],
   "source": [
    "model.config.id2label\n"
   ]
  },
  {
   "cell_type": "code",
   "execution_count": 29,
   "id": "1cf773e3",
   "metadata": {},
   "outputs": [
    {
     "name": "stdout",
     "output_type": "stream",
     "text": [
      "[CLS]           → O\n",
      "اطلاعات         → O\n",
      "مشتری           → O\n",
      "در              → O\n",
      "بانک            → O\n",
      "مرکزی           → B-IDENTIFICATION_ID\n",
      "و               → O\n",
      "بانک            → I-ACTION\n",
      "ملت             → B-IDENTIFICATION_ID\n",
      "باید            → O\n",
      "از              → O\n",
      "طریق            → O\n",
      "سامانه          → O\n",
      "بک              → O\n",
      "افیس            → O\n",
      "بازیابی         → O\n",
      "گردد            → O\n",
      ".               → O\n",
      "[SEP]           → O\n"
     ]
    }
   ],
   "source": [
    "from transformers import AutoTokenizer, AutoModelForTokenClassification\n",
    "import torch\n",
    "\n",
    "model = AutoModelForTokenClassification.from_pretrained(\"./ner_model\")\n",
    "tokenizer = AutoTokenizer.from_pretrained(\"./ner_model\")\n",
    "\n",
    "text = \"اطلاعات مشتری باید از طریق سامانه بک آفیس بازیابی گردد در بانک ملت.\"\n",
    "text = \"اطلاعات مشتری در بانک مرکزی و بانک ملت باید از طریق سامانه بک آفیس بازیابی گردد.\"\n",
    "inputs = tokenizer(text, return_tensors=\"pt\")\n",
    "outputs = model(**inputs)\n",
    "predictions = torch.argmax(outputs.logits, dim=2)\n",
    "tokens = tokenizer.convert_ids_to_tokens(inputs[\"input_ids\"][0])\n",
    "\n",
    "for token, pred_id in zip(tokens, predictions[0]):\n",
    "    print(f\"{token:15} → {model.config.id2label[pred_id.item()]}\")\n"
   ]
  },
  {
   "cell_type": "code",
   "execution_count": null,
   "id": "055ae368",
   "metadata": {},
   "outputs": [],
   "source": []
  }
 ],
 "metadata": {
  "kernelspec": {
   "display_name": ".venv",
   "language": "python",
   "name": "python3"
  },
  "language_info": {
   "codemirror_mode": {
    "name": "ipython",
    "version": 3
   },
   "file_extension": ".py",
   "mimetype": "text/x-python",
   "name": "python",
   "nbconvert_exporter": "python",
   "pygments_lexer": "ipython3",
   "version": "3.12.4"
  }
 },
 "nbformat": 4,
 "nbformat_minor": 5
}
