{
 "cells": [
  {
   "cell_type": "code",
   "execution_count": 4,
   "id": "c8d33cbf",
   "metadata": {},
   "outputs": [],
   "source": [
    "import pandas as pd\n",
    "import json"
   ]
  },
  {
   "cell_type": "code",
   "execution_count": 7,
   "id": "3ca3500f",
   "metadata": {},
   "outputs": [],
   "source": [
    "\n",
    "\n",
    "with open(\"corpus.txt\", \"r\", encoding=\"utf-8\") as in_f, \\\n",
    "     open(\"ls_tasks.json\", \"w\", encoding=\"utf-8\") as out_f:\n",
    "    for idx, line in enumerate(in_f):\n",
    "        text = line.strip()\n",
    "        if not text:\n",
    "            continue\n",
    "        task = {\"id\": idx, \"text\": text}\n",
    "        out_f.write(json.dumps(task, ensure_ascii=False) + \"\\n\")\n"
   ]
  },
  {
   "cell_type": "code",
   "execution_count": null,
   "id": "3cf48b0f",
   "metadata": {},
   "outputs": [],
   "source": []
  }
 ],
 "metadata": {
  "kernelspec": {
   "display_name": ".venv",
   "language": "python",
   "name": "python3"
  },
  "language_info": {
   "codemirror_mode": {
    "name": "ipython",
    "version": 3
   },
   "file_extension": ".py",
   "mimetype": "text/x-python",
   "name": "python",
   "nbconvert_exporter": "python",
   "pygments_lexer": "ipython3",
   "version": "3.12.4"
  }
 },
 "nbformat": 4,
 "nbformat_minor": 5
}
